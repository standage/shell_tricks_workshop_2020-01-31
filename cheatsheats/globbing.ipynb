{
 "cells": [
  {
   "cell_type": "markdown",
   "metadata": {},
   "source": [
    "# Globbing and Brace Expansion\n",
    "\n",
    "Let's see how to match filenames using shell globbing patterns.\n",
    "Here are example data files files."
   ]
  },
  {
   "cell_type": "code",
   "execution_count": 1,
   "metadata": {},
   "outputs": [
    {
     "name": "stdout",
     "output_type": "stream",
     "text": [
      "annot-a.gff3              dummy12                   \u001b[0m\u001b[38;5;9mFt-samp2-R1-cln.fastq.gz\u001b[0m\n",
      "annot-b.gff3              dummy15                   \u001b[38;5;9mFt-samp2-R1.fastq.gz\u001b[0m\n",
      "annot-c.gff3              dummy18                   \u001b[38;5;9mFt-samp2-R2-cln.fastq.gz\u001b[0m\n",
      "annot-d.gff3              dummy21                   \u001b[38;5;9mFt-samp2-R2.fastq.gz\u001b[0m\n",
      "annot-e.gff3              dummy24                   \u001b[38;5;9mFt-samp3-R1-cln.fastq.gz\u001b[0m\n",
      "annot-f.gff3              dummy27                   \u001b[38;5;9mFt-samp3-R1.fastq.gz\u001b[0m\n",
      "annot-g.gff3              dummy30                   \u001b[38;5;9mFt-samp3-R2-cln.fastq.gz\u001b[0m\n",
      "annot-xx.gff3             dummy33                   \u001b[38;5;9mFt-samp3-R2.fastq.gz\u001b[0m\n",
      "annot-xy.gff3             dummy36                   sample1.fastq\n",
      "annot-xz.gff3             dummy39                   sample2.fastq\n",
      "annot-yx.gff3             dummy42                   sample_3.fastq\n",
      "annot-yy.gff3             dummy45                   sample4.fastq\n",
      "annot-yz.gff3             dummy48                   sample5.fastq\n",
      "annot-zx.gff3             dummy51                   sample6.fastq\n",
      "annot-zy.gff3             dummy54                   t1.txt\n",
      "annot-zz.gff3             dummy57                   test1.txt\n",
      "\u001b[38;5;9mBa-samp1-R1-cln.fastq.gz\u001b[0m  dummy60                   testing1.txt\n",
      "\u001b[38;5;9mBa-samp1-R1.fastq.gz\u001b[0m      dummy63                   test-reads.bam\n",
      "\u001b[38;5;9mBa-samp1-R2-cln.fastq.gz\u001b[0m  dummy66                   test-reads.sam\n",
      "\u001b[38;5;9mBa-samp1-R2.fastq.gz\u001b[0m      dummy69                   \u001b[38;5;9mYp-samp1-R1-cln.fastq.gz\u001b[0m\n",
      "\u001b[38;5;9mBa-samp2-R1-cln.fastq.gz\u001b[0m  dummy72                   \u001b[38;5;9mYp-samp1-R1.fastq.gz\u001b[0m\n",
      "\u001b[38;5;9mBa-samp2-R1.fastq.gz\u001b[0m      dummy75                   \u001b[38;5;9mYp-samp1-R2-cln.fastq.gz\u001b[0m\n",
      "\u001b[38;5;9mBa-samp2-R2-cln.fastq.gz\u001b[0m  dummy78                   \u001b[38;5;9mYp-samp1-R2.fastq.gz\u001b[0m\n",
      "\u001b[38;5;9mBa-samp2-R2.fastq.gz\u001b[0m      dummy81                   \u001b[38;5;9mYp-samp2-R1-cln.fastq.gz\u001b[0m\n",
      "\u001b[38;5;9mBa-samp3-R1-cln.fastq.gz\u001b[0m  dummy84                   \u001b[38;5;9mYp-samp2-R1.fastq.gz\u001b[0m\n",
      "\u001b[38;5;9mBa-samp3-R1.fastq.gz\u001b[0m      dummy87                   \u001b[38;5;9mYp-samp2-R2-cln.fastq.gz\u001b[0m\n",
      "\u001b[38;5;9mBa-samp3-R2-cln.fastq.gz\u001b[0m  dummy90                   \u001b[38;5;9mYp-samp2-R2.fastq.gz\u001b[0m\n",
      "\u001b[38;5;9mBa-samp3-R2.fastq.gz\u001b[0m      \u001b[38;5;9mFt-samp1-R1-cln.fastq.gz\u001b[0m  \u001b[38;5;9mYp-samp3-R1-cln.fastq.gz\u001b[0m\n",
      "dummy03                   \u001b[38;5;9mFt-samp1-R1.fastq.gz\u001b[0m      \u001b[38;5;9mYp-samp3-R1.fastq.gz\u001b[0m\n",
      "dummy06                   \u001b[38;5;9mFt-samp1-R2-cln.fastq.gz\u001b[0m  \u001b[38;5;9mYp-samp3-R2-cln.fastq.gz\u001b[0m\n",
      "dummy09                   \u001b[38;5;9mFt-samp1-R2.fastq.gz\u001b[0m      \u001b[38;5;9mYp-samp3-R2.fastq.gz\u001b[0m\n"
     ]
    }
   ],
   "source": [
    "ls data/filenames/"
   ]
  },
  {
   "cell_type": "markdown",
   "metadata": {},
   "source": [
    "Below is a brief explanation of the shell globbing syntax.\n",
    "\n",
    "- `*`: match zero or more characters, can be any character\n",
    "- `?`: match exactly one character, can be any character\n",
    "- `[X-Z]`: character ranges\n",
    "- `[3-6]`: numeric ranges\n",
    "\n",
    "Shell globbing patterns will only expand if there are filenames matching the specified patterns.\n",
    "On the other hand, brace expansion patterns will expand even for files that don't exist.\n",
    "This can be useful for creating new files/directories or listing ranges of letters or numbers.\n",
    "Below is a brief explanation of brace expansion syntax.\n",
    "\n",
    "- `{.faa,.gff3}`: alternative string matches\n",
    "- `{1..25}`: numeric ranges\n",
    "    - can also specify increment like `{2..20..2}`\n",
    "    - can also zero pad to force equal width like `{001..100}`\n",
    "- `{a..g}`: character ranges\n",
    "\n",
    "Here are a few examples of globbing and brace expansion in action."
   ]
  },
  {
   "cell_type": "code",
   "execution_count": 2,
   "metadata": {},
   "outputs": [
    {
     "name": "stdout",
     "output_type": "stream",
     "text": [
      "data/filenames/t1.txt  data/filenames/test1.txt  data/filenames/testing1.txt\n"
     ]
    }
   ],
   "source": [
    "# Match files starting with 't' and ending with '1.txt'\n",
    "ls data/filenames/t*1.txt"
   ]
  },
  {
   "cell_type": "code",
   "execution_count": 3,
   "metadata": {},
   "outputs": [
    {
     "name": "stdout",
     "output_type": "stream",
     "text": [
      "\u001b[0m\u001b[38;5;9mdata/filenames/Ba-samp1-R1-cln.fastq.gz\u001b[0m\n",
      "\u001b[38;5;9mdata/filenames/Ba-samp1-R2-cln.fastq.gz\u001b[0m\n",
      "\u001b[38;5;9mdata/filenames/Ba-samp2-R1-cln.fastq.gz\u001b[0m\n",
      "\u001b[38;5;9mdata/filenames/Ba-samp2-R2-cln.fastq.gz\u001b[0m\n",
      "\u001b[38;5;9mdata/filenames/Ba-samp3-R1-cln.fastq.gz\u001b[0m\n",
      "\u001b[38;5;9mdata/filenames/Ba-samp3-R2-cln.fastq.gz\u001b[0m\n",
      "\u001b[38;5;9mdata/filenames/Ft-samp1-R1-cln.fastq.gz\u001b[0m\n",
      "\u001b[38;5;9mdata/filenames/Ft-samp1-R2-cln.fastq.gz\u001b[0m\n",
      "\u001b[38;5;9mdata/filenames/Ft-samp2-R1-cln.fastq.gz\u001b[0m\n",
      "\u001b[38;5;9mdata/filenames/Ft-samp2-R2-cln.fastq.gz\u001b[0m\n",
      "\u001b[38;5;9mdata/filenames/Ft-samp3-R1-cln.fastq.gz\u001b[0m\n",
      "\u001b[38;5;9mdata/filenames/Ft-samp3-R2-cln.fastq.gz\u001b[0m\n",
      "\u001b[38;5;9mdata/filenames/Yp-samp1-R1-cln.fastq.gz\u001b[0m\n",
      "\u001b[38;5;9mdata/filenames/Yp-samp1-R2-cln.fastq.gz\u001b[0m\n",
      "\u001b[38;5;9mdata/filenames/Yp-samp2-R1-cln.fastq.gz\u001b[0m\n",
      "\u001b[38;5;9mdata/filenames/Yp-samp2-R2-cln.fastq.gz\u001b[0m\n",
      "\u001b[38;5;9mdata/filenames/Yp-samp3-R1-cln.fastq.gz\u001b[0m\n",
      "\u001b[38;5;9mdata/filenames/Yp-samp3-R2-cln.fastq.gz\u001b[0m\n"
     ]
    }
   ],
   "source": [
    "# Match filenames containing 'cln'\n",
    "ls data/filenames/*cln*"
   ]
  },
  {
   "cell_type": "code",
   "execution_count": 4,
   "metadata": {},
   "outputs": [
    {
     "name": "stdout",
     "output_type": "stream",
     "text": [
      "data/filenames/annot-a.gff3  data/filenames/annot-e.gff3\n",
      "data/filenames/annot-b.gff3  data/filenames/annot-f.gff3\n",
      "data/filenames/annot-c.gff3  data/filenames/annot-g.gff3\n",
      "data/filenames/annot-d.gff3\n"
     ]
    }
   ],
   "source": [
    "# Match annotation files with a single letter label\n",
    "ls data/filenames/annot-?.gff3"
   ]
  },
  {
   "cell_type": "code",
   "execution_count": 5,
   "metadata": {},
   "outputs": [
    {
     "name": "stdout",
     "output_type": "stream",
     "text": [
      "data/filenames/annot-xx.gff3  data/filenames/annot-yz.gff3\n",
      "data/filenames/annot-xy.gff3  data/filenames/annot-zx.gff3\n",
      "data/filenames/annot-xz.gff3  data/filenames/annot-zy.gff3\n",
      "data/filenames/annot-yx.gff3  data/filenames/annot-zz.gff3\n",
      "data/filenames/annot-yy.gff3\n"
     ]
    }
   ],
   "source": [
    "# Match annotation files with a double letter label\n",
    "ls data/filenames/annot-??.gff3"
   ]
  },
  {
   "cell_type": "code",
   "execution_count": 6,
   "metadata": {},
   "outputs": [
    {
     "name": "stdout",
     "output_type": "stream",
     "text": [
      "data/filenames/sample2.fastq  data/filenames/sample5.fastq\n",
      "data/filenames/sample4.fastq\n"
     ]
    }
   ],
   "source": [
    "# Match Fastq files for samples 2-5\n",
    "ls data/filenames/sample[2-5].fastq\n",
    "# Whoops! sample3 is missing since it's named inconsistently."
   ]
  },
  {
   "cell_type": "code",
   "execution_count": 7,
   "metadata": {},
   "outputs": [
    {
     "name": "stdout",
     "output_type": "stream",
     "text": [
      "data/filenames/t1.txt        data/filenames/test-reads.bam\n",
      "data/filenames/test1.txt     data/filenames/test-reads.sam\n",
      "data/filenames/testing1.txt\n"
     ]
    }
   ],
   "source": [
    "# Match files with .sam, .bam, or .txt extensions\n",
    "ls data/filenames/*{.sam,.bam,.txt}"
   ]
  },
  {
   "cell_type": "code",
   "execution_count": 8,
   "metadata": {},
   "outputs": [
    {
     "name": "stdout",
     "output_type": "stream",
     "text": [
      "data/filenames/dummy03  data/filenames/dummy33  data/filenames/dummy63\n",
      "data/filenames/dummy06  data/filenames/dummy36  data/filenames/dummy66\n",
      "data/filenames/dummy09  data/filenames/dummy39  data/filenames/dummy69\n",
      "data/filenames/dummy12  data/filenames/dummy42  data/filenames/dummy72\n",
      "data/filenames/dummy15  data/filenames/dummy45  data/filenames/dummy75\n",
      "data/filenames/dummy18  data/filenames/dummy48  data/filenames/dummy78\n",
      "data/filenames/dummy21  data/filenames/dummy51  data/filenames/dummy81\n",
      "data/filenames/dummy24  data/filenames/dummy54  data/filenames/dummy84\n",
      "data/filenames/dummy27  data/filenames/dummy57  data/filenames/dummy87\n",
      "data/filenames/dummy30  data/filenames/dummy60  data/filenames/dummy90\n"
     ]
    }
   ],
   "source": [
    "# Create dummy files for every multiple of 3 between 1 and 90\n",
    "#     This is possible with brace expansion but not globbing\n",
    "rm -f data/filenames/dummy*\n",
    "touch data/filenames/dummy{03..90..3}\n",
    "ls data/filenames/dummy*"
   ]
  },
  {
   "cell_type": "markdown",
   "metadata": {},
   "source": [
    "Different patterns can be combined for complex matches."
   ]
  },
  {
   "cell_type": "code",
   "execution_count": 9,
   "metadata": {},
   "outputs": [
    {
     "name": "stdout",
     "output_type": "stream",
     "text": [
      "\u001b[0m\u001b[38;5;9mdata/filenames/Ba-samp2-R1.fastq.gz\u001b[0m  \u001b[38;5;9mdata/filenames/Yp-samp2-R1.fastq.gz\u001b[0m\n",
      "\u001b[38;5;9mdata/filenames/Ba-samp2-R2.fastq.gz\u001b[0m  \u001b[38;5;9mdata/filenames/Yp-samp2-R2.fastq.gz\u001b[0m\n",
      "\u001b[38;5;9mdata/filenames/Ba-samp3-R1.fastq.gz\u001b[0m  \u001b[38;5;9mdata/filenames/Yp-samp3-R1.fastq.gz\u001b[0m\n",
      "\u001b[38;5;9mdata/filenames/Ba-samp3-R2.fastq.gz\u001b[0m  \u001b[38;5;9mdata/filenames/Yp-samp3-R2.fastq.gz\u001b[0m\n"
     ]
    }
   ],
   "source": [
    "# Match samples 2 and 3 from Ba and Yp, both R1 and R2; exclude cleaned reads\n",
    "ls data/filenames/{Ba,Yp}-samp[2-3]-R?.fastq.gz"
   ]
  },
  {
   "cell_type": "markdown",
   "metadata": {},
   "source": [
    "## Exercise\n",
    "\n",
    "Let's try putting these patterns into practice on another set of files.\n",
    "These are the bacteria species present in the RefSeq genomes FTP."
   ]
  },
  {
   "cell_type": "code",
   "execution_count": 10,
   "metadata": {},
   "outputs": [
    {
     "name": "stdout",
     "output_type": "stream",
     "text": [
      "Acinetobacter_pittii.txt           Lactobacillus_salivarius.txt\n",
      "Aeromonas_hydrophila.txt           Lactococcus_lactis.txt\n",
      "Agrobacterium_fabrum.txt           Legionella_pneumophila.txt\n",
      "Aliivibrio_fischeri.txt            Leptospira_interrogans.txt\n",
      "Amycolatopsis_mediterranei.txt     Listeria_monocytogenes.txt\n",
      "Aquifex_aeolicus.txt               Mesoplasma_florum.txt\n",
      "Bacillus_anthracis.txt             Mesorhizobium_ciceri.txt\n",
      "Bacillus_cereus.txt                Moorella_thermoacetica.txt\n",
      "Bacillus_subtilis.txt              Mycobacterium_leprae.txt\n",
      "Bacillus_thuringiensis.txt         Mycobacterium_tuberculosis.txt\n",
      "Bacteroides_fragilis.txt           Mycobacteroides_abscessus.txt\n",
      "Bacteroides_thetaiotaomicron.txt   Mycolicibacterium_smegmatis.txt\n",
      "Bifidobacterium_bifidum.txt        Mycoplasma_mycoides.txt\n",
      "Bifidobacterium_longum.txt         Mycoplasma_pneumoniae.txt\n",
      "Bordetella_bronchiseptica.txt      Neisseria_gonorrhoeae.txt\n",
      "Bordetella_parapertussis.txt       Neisseria_meningitidis.txt\n",
      "Bordetella_pertussis.txt           Prochlorococcus_marinus.txt\n",
      "Borreliella_burgdorferi.txt        Pseudomonas_aeruginosa.txt\n",
      "Brachybacterium_faecium.txt        Pseudomonas_putida.txt\n",
      "Bradyrhizobium_diazoefficiens.txt  Pseudomonas_syringae_group_genomosp._3.txt\n",
      "Buchnera_aphidicola.txt            Pseudomonas_syringae.txt\n",
      "Burkholderia_mallei.txt            Rhodobacter_sphaeroides.txt\n",
      "Burkholderia_pseudomallei.txt      Rhodopirellula_baltica.txt\n",
      "Campylobacter_jejuni.txt           Rhodospirillum_rubrum.txt\n",
      "Caulobacter_vibrioides.txt         Rickettsia_prowazekii.txt\n",
      "Chlamydia_pneumoniae.txt           Salinibacter_ruber.txt\n",
      "Chlamydia_trachomatis.txt          Salmonella_enterica.txt\n",
      "Chlorobaculum_tepidum.txt          Shewanella_oneidensis.txt\n",
      "Chloroflexus_aurantiacus.txt       Shigella_dysenteriae.txt\n",
      "Clostridioides_difficile.txt       Shigella_flexneri.txt\n",
      "Clostridium_acetobutylicum.txt     Sinorhizobium_fredii.txt\n",
      "Clostridium_botulinum.txt          Sinorhizobium_medicae.txt\n",
      "Corynebacterium_glutamicum.txt     Sinorhizobium_meliloti.txt\n",
      "Coxiella_burnetii.txt              Staphylococcus_aureus.txt\n",
      "Deinococcus_radiodurans.txt        Staphylococcus_epidermidis.txt\n",
      "Desulfovibrio_vulgaris.txt         Streptococcus_agalactiae.txt\n",
      "Dictyoglomus_turgidum.txt          Streptococcus_mitis.txt\n",
      "Enterobacter_cloacae.txt           Streptococcus_mutans.txt\n",
      "Enterococcus_faecalis.txt          Streptococcus_pneumoniae.txt\n",
      "Enterococcus_faecium.txt           Streptococcus_pyogenes.txt\n",
      "Escherichia_coli.txt               Streptococcus_sanguinis.txt\n",
      "Flavobacterium_psychrophilum.txt   Streptococcus_suis.txt\n",
      "Francisella_tularensis.txt         Streptomyces_coelicolor.txt\n",
      "Fusobacterium_nucleatum.txt        Thermanaerovibrio_acidaminovorans.txt\n",
      "Gardnerella_vaginalis.txt          Thermodesulfovibrio_yellowstonii.txt\n",
      "Geobacter_sulfurreducens.txt       Thermosynechococcus_elongatus.txt\n",
      "Gloeobacter_violaceus.txt          Thermotoga_maritima.txt\n",
      "Haemophilus_influenzae.txt         Thermus_thermophilus.txt\n",
      "Helicobacter_pylori.txt            Treponema_denticola.txt\n",
      "Ketogulonicigenium_vulgare.txt     Vibrio_cholerae.txt\n",
      "Klebsiella_aerogenes.txt           Vibrio_parahaemolyticus.txt\n",
      "Klebsiella_pneumoniae.txt          Xanthomonas_campestris.txt\n",
      "Lactobacillus_acidophilus.txt      Yersinia_enterocolitica.txt\n",
      "Lactobacillus_paracasei.txt        Yersinia_pestis.txt\n",
      "Lactobacillus_plantarum.txt\n"
     ]
    }
   ],
   "source": [
    "ls data/refseqbacteria/"
   ]
  },
  {
   "cell_type": "code",
   "execution_count": 11,
   "metadata": {},
   "outputs": [
    {
     "name": "stdout",
     "output_type": "stream",
     "text": [
      "data/refseqbacteria/Rhodobacter_sphaeroides.txt\n",
      "data/refseqbacteria/Rhodopirellula_baltica.txt\n",
      "data/refseqbacteria/Rhodospirillum_rubrum.txt\n",
      "data/refseqbacteria/Rickettsia_prowazekii.txt\n"
     ]
    }
   ],
   "source": [
    "# Match files starting with 'R'\n",
    "ls data/refseqbacteria/R*.txt"
   ]
  },
  {
   "cell_type": "code",
   "execution_count": 12,
   "metadata": {},
   "outputs": [
    {
     "name": "stdout",
     "output_type": "stream",
     "text": [
      "data/refseqbacteria/Escherichia_coli.txt\n",
      "data/refseqbacteria/Streptococcus_suis.txt\n"
     ]
    }
   ],
   "source": [
    "# Match files with species name 4 characters long\n",
    "ls data/refseqbacteria/*_????.txt"
   ]
  },
  {
   "cell_type": "code",
   "execution_count": 13,
   "metadata": {},
   "outputs": [
    {
     "name": "stdout",
     "output_type": "stream",
     "text": [
      "data/refseqbacteria/Aeromonas_hydrophila.txt\n",
      "data/refseqbacteria/Campylobacter_jejuni.txt\n",
      "data/refseqbacteria/Corynebacterium_glutamicum.txt\n",
      "data/refseqbacteria/Haemophilus_influenzae.txt\n",
      "data/refseqbacteria/Leptospira_interrogans.txt\n",
      "data/refseqbacteria/Neisseria_gonorrhoeae.txt\n",
      "data/refseqbacteria/Pseudomonas_syringae_group_genomosp._3.txt\n"
     ]
    }
   ],
   "source": [
    "# Match files with species name starting with g, h, i, or k\n",
    "ls data/refseqbacteria/*_[g-k]*.txt"
   ]
  },
  {
   "cell_type": "code",
   "execution_count": 14,
   "metadata": {},
   "outputs": [
    {
     "name": "stdout",
     "output_type": "stream",
     "text": [
      "data/refseqbacteria/Bacillus_anthracis.txt\n",
      "data/refseqbacteria/Bacillus_cereus.txt\n",
      "data/refseqbacteria/Bacillus_subtilis.txt\n",
      "data/refseqbacteria/Bacillus_thuringiensis.txt\n",
      "data/refseqbacteria/Yersinia_enterocolitica.txt\n",
      "data/refseqbacteria/Yersinia_pestis.txt\n"
     ]
    }
   ],
   "source": [
    "# Match files with genus name in Bacillus or Yersinia\n",
    "ls data/refseqbacteria/{Bacillus,Yersinia}*.txt"
   ]
  },
  {
   "cell_type": "code",
   "execution_count": 15,
   "metadata": {},
   "outputs": [
    {
     "name": "stdout",
     "output_type": "stream",
     "text": [
      "\u001b[01;31m\u001b[KGram\u001b[m\u001b[KNeg_1a\n",
      "\u001b[01;31m\u001b[KGram\u001b[m\u001b[KNeg_1b\n",
      "\u001b[01;31m\u001b[KGram\u001b[m\u001b[KNeg_2a\n",
      "\u001b[01;31m\u001b[KGram\u001b[m\u001b[KNeg_2b\n",
      "\u001b[01;31m\u001b[KGram\u001b[m\u001b[KNeg_3a\n",
      "\u001b[01;31m\u001b[KGram\u001b[m\u001b[KNeg_3b\n",
      "\u001b[01;31m\u001b[KGram\u001b[m\u001b[KPos_1a\n",
      "\u001b[01;31m\u001b[KGram\u001b[m\u001b[KPos_1b\n",
      "\u001b[01;31m\u001b[KGram\u001b[m\u001b[KPos_2a\n",
      "\u001b[01;31m\u001b[KGram\u001b[m\u001b[KPos_2b\n",
      "\u001b[01;31m\u001b[KGram\u001b[m\u001b[KPos_3a\n",
      "\u001b[01;31m\u001b[KGram\u001b[m\u001b[KPos_3b\n"
     ]
    }
   ],
   "source": [
    "# Bonus! Create all of the following directories using a single command\n",
    "#    GramNeg_1a   GramNeg_1b   GramNeg_2a   GramNeg_2b   GramNeg_3a   GramNeg_3b\n",
    "#    GramPos_1a   GramPos_1b   GramPos_2a   GramPos_2b   GramPos_3a   GramPos_3b\n",
    "rm -rf Gram*\n",
    "mkdir -p Gram{Neg,Pos}_{1..3}{a..b}\n",
    "ls | grep Gram"
   ]
  }
 ],
 "metadata": {
  "kernelspec": {
   "display_name": "Bash",
   "language": "bash",
   "name": "bash"
  },
  "language_info": {
   "codemirror_mode": "shell",
   "file_extension": ".sh",
   "mimetype": "text/x-sh",
   "name": "bash"
  }
 },
 "nbformat": 4,
 "nbformat_minor": 2
}
