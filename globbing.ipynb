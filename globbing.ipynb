{
 "cells": [
  {
   "cell_type": "markdown",
   "metadata": {},
   "source": [
    "# Globbing and Brace Expansion\n",
    "\n",
    "Let's see how to match filenames using shell globbing patterns.\n",
    "Here are example data files files."
   ]
  },
  {
   "cell_type": "code",
   "execution_count": 1,
   "metadata": {},
   "outputs": [
    {
     "name": "stdout",
     "output_type": "stream",
     "text": [
      "annot-a.gff3              \u001b[0m\u001b[38;5;9mBa-samp2-R1.fastq.gz\u001b[0m      sample_3.fastq\n",
      "annot-b.gff3              \u001b[38;5;9mBa-samp2-R2-cln.fastq.gz\u001b[0m  sample4.fastq\n",
      "annot-c.gff3              \u001b[38;5;9mBa-samp2-R2.fastq.gz\u001b[0m      sample5.fastq\n",
      "annot-d.gff3              \u001b[38;5;9mBa-samp3-R1-cln.fastq.gz\u001b[0m  sample6.fastq\n",
      "annot-e.gff3              \u001b[38;5;9mBa-samp3-R1.fastq.gz\u001b[0m      t1.txt\n",
      "annot-f.gff3              \u001b[38;5;9mBa-samp3-R2-cln.fastq.gz\u001b[0m  test1.txt\n",
      "annot-g.gff3              \u001b[38;5;9mBa-samp3-R2.fastq.gz\u001b[0m      testing1.txt\n",
      "annot-xx.gff3             \u001b[38;5;9mFt-samp1-R1-cln.fastq.gz\u001b[0m  test-reads.bam\n",
      "annot-xy.gff3             \u001b[38;5;9mFt-samp1-R1.fastq.gz\u001b[0m      test-reads.sam\n",
      "annot-xz.gff3             \u001b[38;5;9mFt-samp1-R2-cln.fastq.gz\u001b[0m  \u001b[38;5;9mYp-samp1-R1-cln.fastq.gz\u001b[0m\n",
      "annot-yx.gff3             \u001b[38;5;9mFt-samp1-R2.fastq.gz\u001b[0m      \u001b[38;5;9mYp-samp1-R1.fastq.gz\u001b[0m\n",
      "annot-yy.gff3             \u001b[38;5;9mFt-samp2-R1-cln.fastq.gz\u001b[0m  \u001b[38;5;9mYp-samp1-R2-cln.fastq.gz\u001b[0m\n",
      "annot-yz.gff3             \u001b[38;5;9mFt-samp2-R1.fastq.gz\u001b[0m      \u001b[38;5;9mYp-samp1-R2.fastq.gz\u001b[0m\n",
      "annot-zx.gff3             \u001b[38;5;9mFt-samp2-R2-cln.fastq.gz\u001b[0m  \u001b[38;5;9mYp-samp2-R1-cln.fastq.gz\u001b[0m\n",
      "annot-zy.gff3             \u001b[38;5;9mFt-samp2-R2.fastq.gz\u001b[0m      \u001b[38;5;9mYp-samp2-R1.fastq.gz\u001b[0m\n",
      "annot-zz.gff3             \u001b[38;5;9mFt-samp3-R1-cln.fastq.gz\u001b[0m  \u001b[38;5;9mYp-samp2-R2-cln.fastq.gz\u001b[0m\n",
      "\u001b[38;5;9mBa-samp1-R1-cln.fastq.gz\u001b[0m  \u001b[38;5;9mFt-samp3-R1.fastq.gz\u001b[0m      \u001b[38;5;9mYp-samp2-R2.fastq.gz\u001b[0m\n",
      "\u001b[38;5;9mBa-samp1-R1.fastq.gz\u001b[0m      \u001b[38;5;9mFt-samp3-R2-cln.fastq.gz\u001b[0m  \u001b[38;5;9mYp-samp3-R1-cln.fastq.gz\u001b[0m\n",
      "\u001b[38;5;9mBa-samp1-R2-cln.fastq.gz\u001b[0m  \u001b[38;5;9mFt-samp3-R2.fastq.gz\u001b[0m      \u001b[38;5;9mYp-samp3-R1.fastq.gz\u001b[0m\n",
      "\u001b[38;5;9mBa-samp1-R2.fastq.gz\u001b[0m      sample1.fastq             \u001b[38;5;9mYp-samp3-R2-cln.fastq.gz\u001b[0m\n",
      "\u001b[38;5;9mBa-samp2-R1-cln.fastq.gz\u001b[0m  sample2.fastq             \u001b[38;5;9mYp-samp3-R2.fastq.gz\u001b[0m\n"
     ]
    }
   ],
   "source": [
    "ls data/filenames/"
   ]
  },
  {
   "cell_type": "markdown",
   "metadata": {},
   "source": [
    "Below is a brief explanation of the shell globbing syntax.\n",
    "\n",
    "- `*`: match zero or more characters, can be any character\n",
    "- `?`: match exactly one character, can be any character\n",
    "- `[X-Z]`: character ranges\n",
    "- `[3-6]`: numeric ranges\n",
    "\n",
    "Shell globbing patterns will only expand if there are filenames matching the specified patterns.\n",
    "On the other hand, brace expansion patterns will expand even for files that don't exist.\n",
    "This can be useful for creating new files/directories or listing ranges of letters or numbers.\n",
    "Below is a brief explanation of brace expansion syntax.\n",
    "\n",
    "- `{.faa,.gff3}`: alternative string matches\n",
    "- `{1..25}`: numeric ranges\n",
    "    - can also specify increment like `{2..20..2}`\n",
    "    - can also zero pad to force equal width like `{001..100}`\n",
    "- `{a..g}`: character ranges\n",
    "\n",
    "Here are a few examples of globbing and brace expansion in action."
   ]
  },
  {
   "cell_type": "code",
   "execution_count": 2,
   "metadata": {},
   "outputs": [
    {
     "name": "stdout",
     "output_type": "stream",
     "text": [
      "data/filenames/t1.txt  data/filenames/test1.txt  data/filenames/testing1.txt\n"
     ]
    }
   ],
   "source": [
    "# Match files starting with 't' and ending with '1.txt'\n",
    "ls data/filenames/t*1.txt"
   ]
  },
  {
   "cell_type": "code",
   "execution_count": 3,
   "metadata": {},
   "outputs": [
    {
     "name": "stdout",
     "output_type": "stream",
     "text": [
      "\u001b[0m\u001b[38;5;9mdata/filenames/Ba-samp1-R1-cln.fastq.gz\u001b[0m\n",
      "\u001b[38;5;9mdata/filenames/Ba-samp1-R2-cln.fastq.gz\u001b[0m\n",
      "\u001b[38;5;9mdata/filenames/Ba-samp2-R1-cln.fastq.gz\u001b[0m\n",
      "\u001b[38;5;9mdata/filenames/Ba-samp2-R2-cln.fastq.gz\u001b[0m\n",
      "\u001b[38;5;9mdata/filenames/Ba-samp3-R1-cln.fastq.gz\u001b[0m\n",
      "\u001b[38;5;9mdata/filenames/Ba-samp3-R2-cln.fastq.gz\u001b[0m\n",
      "\u001b[38;5;9mdata/filenames/Ft-samp1-R1-cln.fastq.gz\u001b[0m\n",
      "\u001b[38;5;9mdata/filenames/Ft-samp1-R2-cln.fastq.gz\u001b[0m\n",
      "\u001b[38;5;9mdata/filenames/Ft-samp2-R1-cln.fastq.gz\u001b[0m\n",
      "\u001b[38;5;9mdata/filenames/Ft-samp2-R2-cln.fastq.gz\u001b[0m\n",
      "\u001b[38;5;9mdata/filenames/Ft-samp3-R1-cln.fastq.gz\u001b[0m\n",
      "\u001b[38;5;9mdata/filenames/Ft-samp3-R2-cln.fastq.gz\u001b[0m\n",
      "\u001b[38;5;9mdata/filenames/Yp-samp1-R1-cln.fastq.gz\u001b[0m\n",
      "\u001b[38;5;9mdata/filenames/Yp-samp1-R2-cln.fastq.gz\u001b[0m\n",
      "\u001b[38;5;9mdata/filenames/Yp-samp2-R1-cln.fastq.gz\u001b[0m\n",
      "\u001b[38;5;9mdata/filenames/Yp-samp2-R2-cln.fastq.gz\u001b[0m\n",
      "\u001b[38;5;9mdata/filenames/Yp-samp3-R1-cln.fastq.gz\u001b[0m\n",
      "\u001b[38;5;9mdata/filenames/Yp-samp3-R2-cln.fastq.gz\u001b[0m\n"
     ]
    }
   ],
   "source": [
    "# Match filenames containing 'cln'\n",
    "ls data/filenames/*cln*"
   ]
  },
  {
   "cell_type": "code",
   "execution_count": 4,
   "metadata": {},
   "outputs": [
    {
     "name": "stdout",
     "output_type": "stream",
     "text": [
      "data/filenames/annot-a.gff3  data/filenames/annot-e.gff3\n",
      "data/filenames/annot-b.gff3  data/filenames/annot-f.gff3\n",
      "data/filenames/annot-c.gff3  data/filenames/annot-g.gff3\n",
      "data/filenames/annot-d.gff3\n"
     ]
    }
   ],
   "source": [
    "# Match annotation files with a single letter label\n",
    "ls data/filenames/annot-?.gff3"
   ]
  },
  {
   "cell_type": "code",
   "execution_count": 5,
   "metadata": {},
   "outputs": [
    {
     "name": "stdout",
     "output_type": "stream",
     "text": [
      "data/filenames/annot-xx.gff3  data/filenames/annot-yz.gff3\n",
      "data/filenames/annot-xy.gff3  data/filenames/annot-zx.gff3\n",
      "data/filenames/annot-xz.gff3  data/filenames/annot-zy.gff3\n",
      "data/filenames/annot-yx.gff3  data/filenames/annot-zz.gff3\n",
      "data/filenames/annot-yy.gff3\n"
     ]
    }
   ],
   "source": [
    "# Match annotation files with a double letter label\n",
    "ls data/filenames/annot-??.gff3"
   ]
  },
  {
   "cell_type": "code",
   "execution_count": 6,
   "metadata": {},
   "outputs": [
    {
     "name": "stdout",
     "output_type": "stream",
     "text": [
      "data/filenames/sample2.fastq  data/filenames/sample5.fastq\n",
      "data/filenames/sample4.fastq\n"
     ]
    }
   ],
   "source": [
    "# Match Fastq files for samples 2-5\n",
    "ls data/filenames/sample[2-5].fastq\n",
    "# Whoops! sample3 is missing since it's named inconsistently."
   ]
  },
  {
   "cell_type": "code",
   "execution_count": 7,
   "metadata": {},
   "outputs": [
    {
     "name": "stdout",
     "output_type": "stream",
     "text": [
      "data/filenames/t1.txt        data/filenames/test-reads.bam\n",
      "data/filenames/test1.txt     data/filenames/test-reads.sam\n",
      "data/filenames/testing1.txt\n"
     ]
    }
   ],
   "source": [
    "# Match files with .sam, .bam, or .txt extensions\n",
    "ls data/filenames/*{.sam,.bam,.txt}"
   ]
  },
  {
   "cell_type": "code",
   "execution_count": 8,
   "metadata": {},
   "outputs": [
    {
     "name": "stdout",
     "output_type": "stream",
     "text": [
      "data/filenames/dummy03  data/filenames/dummy33  data/filenames/dummy63\n",
      "data/filenames/dummy06  data/filenames/dummy36  data/filenames/dummy66\n",
      "data/filenames/dummy09  data/filenames/dummy39  data/filenames/dummy69\n",
      "data/filenames/dummy12  data/filenames/dummy42  data/filenames/dummy72\n",
      "data/filenames/dummy15  data/filenames/dummy45  data/filenames/dummy75\n",
      "data/filenames/dummy18  data/filenames/dummy48  data/filenames/dummy78\n",
      "data/filenames/dummy21  data/filenames/dummy51  data/filenames/dummy81\n",
      "data/filenames/dummy24  data/filenames/dummy54  data/filenames/dummy84\n",
      "data/filenames/dummy27  data/filenames/dummy57  data/filenames/dummy87\n",
      "data/filenames/dummy30  data/filenames/dummy60  data/filenames/dummy90\n"
     ]
    }
   ],
   "source": [
    "# Create dummy files for every multiple of 3 between 1 and 90\n",
    "#     This is possible with brace expansion but not globbing\n",
    "touch data/filenames/dummy{03..90..3}\n",
    "ls data/filenames/dummy*\n",
    "rm -f data/filenames/dummy*  # cleanup"
   ]
  },
  {
   "cell_type": "markdown",
   "metadata": {},
   "source": [
    "Different patterns can be combined for complex matches."
   ]
  },
  {
   "cell_type": "code",
   "execution_count": 9,
   "metadata": {},
   "outputs": [
    {
     "name": "stdout",
     "output_type": "stream",
     "text": [
      "\u001b[0m\u001b[38;5;9mdata/filenames/Ba-samp2-R1.fastq.gz\u001b[0m  \u001b[38;5;9mdata/filenames/Yp-samp2-R1.fastq.gz\u001b[0m\n",
      "\u001b[38;5;9mdata/filenames/Ba-samp2-R2.fastq.gz\u001b[0m  \u001b[38;5;9mdata/filenames/Yp-samp2-R2.fastq.gz\u001b[0m\n",
      "\u001b[38;5;9mdata/filenames/Ba-samp3-R1.fastq.gz\u001b[0m  \u001b[38;5;9mdata/filenames/Yp-samp3-R1.fastq.gz\u001b[0m\n",
      "\u001b[38;5;9mdata/filenames/Ba-samp3-R2.fastq.gz\u001b[0m  \u001b[38;5;9mdata/filenames/Yp-samp3-R2.fastq.gz\u001b[0m\n"
     ]
    }
   ],
   "source": [
    "# Match samples 2 and 3 from Ba and Yp, both R1 and R2; exclude cleaned reads\n",
    "ls data/filenames/{Ba,Yp}-samp[2-3]-R?.fastq.gz"
   ]
  },
  {
   "cell_type": "markdown",
   "metadata": {},
   "source": [
    "## Exercise\n",
    "\n",
    "Let's try putting these patterns into practice on another set of files.\n",
    "These are the bacteria species present in the RefSeq genomes FTP."
   ]
  },
  {
   "cell_type": "code",
   "execution_count": 10,
   "metadata": {},
   "outputs": [
    {
     "name": "stdout",
     "output_type": "stream",
     "text": [
      "Acinetobacter_pittii.txt           Lactobacillus_salivarius.txt\n",
      "Aeromonas_hydrophila.txt           Lactococcus_lactis.txt\n",
      "Agrobacterium_fabrum.txt           Legionella_pneumophila.txt\n",
      "Aliivibrio_fischeri.txt            Leptospira_interrogans.txt\n",
      "Amycolatopsis_mediterranei.txt     Listeria_monocytogenes.txt\n",
      "Aquifex_aeolicus.txt               Mesoplasma_florum.txt\n",
      "Bacillus_anthracis.txt             Mesorhizobium_ciceri.txt\n",
      "Bacillus_cereus.txt                Moorella_thermoacetica.txt\n",
      "Bacillus_subtilis.txt              Mycobacterium_leprae.txt\n",
      "Bacillus_thuringiensis.txt         Mycobacterium_tuberculosis.txt\n",
      "Bacteroides_fragilis.txt           Mycobacteroides_abscessus.txt\n",
      "Bacteroides_thetaiotaomicron.txt   Mycolicibacterium_smegmatis.txt\n",
      "Bifidobacterium_bifidum.txt        Mycoplasma_mycoides.txt\n",
      "Bifidobacterium_longum.txt         Mycoplasma_pneumoniae.txt\n",
      "Bordetella_bronchiseptica.txt      Neisseria_gonorrhoeae.txt\n",
      "Bordetella_parapertussis.txt       Neisseria_meningitidis.txt\n",
      "Bordetella_pertussis.txt           Prochlorococcus_marinus.txt\n",
      "Borreliella_burgdorferi.txt        Pseudomonas_aeruginosa.txt\n",
      "Brachybacterium_faecium.txt        Pseudomonas_putida.txt\n",
      "Bradyrhizobium_diazoefficiens.txt  Pseudomonas_syringae_group_genomosp._3.txt\n",
      "Buchnera_aphidicola.txt            Pseudomonas_syringae.txt\n",
      "Burkholderia_mallei.txt            Rhodobacter_sphaeroides.txt\n",
      "Burkholderia_pseudomallei.txt      Rhodopirellula_baltica.txt\n",
      "Campylobacter_jejuni.txt           Rhodospirillum_rubrum.txt\n",
      "Caulobacter_vibrioides.txt         Rickettsia_prowazekii.txt\n",
      "Chlamydia_pneumoniae.txt           Salinibacter_ruber.txt\n",
      "Chlamydia_trachomatis.txt          Salmonella_enterica.txt\n",
      "Chlorobaculum_tepidum.txt          Shewanella_oneidensis.txt\n",
      "Chloroflexus_aurantiacus.txt       Shigella_dysenteriae.txt\n",
      "Clostridioides_difficile.txt       Shigella_flexneri.txt\n",
      "Clostridium_acetobutylicum.txt     Sinorhizobium_fredii.txt\n",
      "Clostridium_botulinum.txt          Sinorhizobium_medicae.txt\n",
      "Corynebacterium_glutamicum.txt     Sinorhizobium_meliloti.txt\n",
      "Coxiella_burnetii.txt              Staphylococcus_aureus.txt\n",
      "Deinococcus_radiodurans.txt        Staphylococcus_epidermidis.txt\n",
      "Desulfovibrio_vulgaris.txt         Streptococcus_agalactiae.txt\n",
      "Dictyoglomus_turgidum.txt          Streptococcus_mitis.txt\n",
      "Enterobacter_cloacae.txt           Streptococcus_mutans.txt\n",
      "Enterococcus_faecalis.txt          Streptococcus_pneumoniae.txt\n",
      "Enterococcus_faecium.txt           Streptococcus_pyogenes.txt\n",
      "Escherichia_coli.txt               Streptococcus_sanguinis.txt\n",
      "Flavobacterium_psychrophilum.txt   Streptococcus_suis.txt\n",
      "Francisella_tularensis.txt         Streptomyces_coelicolor.txt\n",
      "Fusobacterium_nucleatum.txt        Thermanaerovibrio_acidaminovorans.txt\n",
      "Gardnerella_vaginalis.txt          Thermodesulfovibrio_yellowstonii.txt\n",
      "Geobacter_sulfurreducens.txt       Thermosynechococcus_elongatus.txt\n",
      "Gloeobacter_violaceus.txt          Thermotoga_maritima.txt\n",
      "Haemophilus_influenzae.txt         Thermus_thermophilus.txt\n",
      "Helicobacter_pylori.txt            Treponema_denticola.txt\n",
      "Ketogulonicigenium_vulgare.txt     Vibrio_cholerae.txt\n",
      "Klebsiella_aerogenes.txt           Vibrio_parahaemolyticus.txt\n",
      "Klebsiella_pneumoniae.txt          Xanthomonas_campestris.txt\n",
      "Lactobacillus_acidophilus.txt      Yersinia_enterocolitica.txt\n",
      "Lactobacillus_paracasei.txt        Yersinia_pestis.txt\n",
      "Lactobacillus_plantarum.txt\n"
     ]
    }
   ],
   "source": [
    "ls data/refseqbacteria/"
   ]
  },
  {
   "cell_type": "code",
   "execution_count": null,
   "metadata": {},
   "outputs": [],
   "source": [
    "# Match files starting with 'R'\n",
    "# ...your code goes here..."
   ]
  },
  {
   "cell_type": "code",
   "execution_count": null,
   "metadata": {},
   "outputs": [],
   "source": [
    "# Match files with species name 4 characters long\n",
    "# ...your code goes here..."
   ]
  },
  {
   "cell_type": "code",
   "execution_count": null,
   "metadata": {},
   "outputs": [],
   "source": [
    "# Match files with species name starting with g, h, i, or k\n",
    "# ...your code goes here..."
   ]
  },
  {
   "cell_type": "code",
   "execution_count": null,
   "metadata": {},
   "outputs": [],
   "source": [
    "# Match files with genus name in Bacillus or Yersinia\n",
    "# ...your code goes here..."
   ]
  },
  {
   "cell_type": "code",
   "execution_count": null,
   "metadata": {},
   "outputs": [],
   "source": [
    "# Bonus! Create all of the following directories using a single command\n",
    "#    GramNeg_1a   GramNeg_1b   GramNeg_2a   GramNeg_2b   GramNeg_3a   GramNeg_3b\n",
    "#    GramPos_1a   GramPos_1b   GramPos_2a   GramPos_2b   GramPos_3a   GramPos_3b\n",
    "# ...your code goes here...\n",
    "ls | grep Gram\n",
    "rm -rf Gram*  # cleanup"
   ]
  }
 ],
 "metadata": {
  "kernelspec": {
   "display_name": "Bash",
   "language": "bash",
   "name": "bash"
  },
  "language_info": {
   "codemirror_mode": "shell",
   "file_extension": ".sh",
   "mimetype": "text/x-sh",
   "name": "bash"
  }
 },
 "nbformat": 4,
 "nbformat_minor": 2
}
