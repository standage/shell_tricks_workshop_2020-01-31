{
 "cells": [
  {
   "cell_type": "markdown",
   "metadata": {},
   "source": [
    "# GNU parallel"
   ]
  },
  {
   "cell_type": "markdown",
   "metadata": {},
   "source": [
    "There are several ways to batch parallel processes in the shell.\n",
    "The bash for loop is common and effective when the number of processors on your computer exceeds the number of tasks to be run in parallel.\n",
    "But as your number of tasks grows, for loops provide no easy way to utilize all available processors without overwhelming the system.\n",
    "Either you run all processes simultaneously or you run one at a time.\n",
    "\n",
    "The GNU `parallel` program provides a better alternative in these types of scenarios.\n",
    "With this command, you specify not only the inputs to be processed but also the number of tasks you want to run at once.\n",
    "For example, if you have 1024 samples that need to be processed and a computer with 16 processors, you would invoke the parallel command to run 16 jobs at once until all 1024 samples are processed.\n",
    "\n",
    "This notebook will demonstrate the syntax for invoking the parallel command.\n",
    "First, let's consider some sample data files."
   ]
  },
  {
   "cell_type": "code",
   "execution_count": 1,
   "metadata": {},
   "outputs": [
    {
     "name": "stdout",
     "output_type": "stream",
     "text": [
      "Bvul.indvX.repl1.fasta  Dori.indvX.repl1.fasta  Epeg.indvX.repl1.fasta\n",
      "Bvul.indvX.repl2.fasta  Dori.indvX.repl2.fasta  Epeg.indvX.repl2.fasta\n",
      "Bvul.indvX.repl3.fasta  Dori.indvX.repl3.fasta  Epeg.indvX.repl3.fasta\n",
      "Bvul.indvY.repl1.fasta  Dori.indvY.repl1.fasta  Epeg.indvY.repl1.fasta\n",
      "Bvul.indvY.repl2.fasta  Dori.indvY.repl2.fasta  Epeg.indvY.repl2.fasta\n",
      "Bvul.indvY.repl3.fasta  Dori.indvY.repl3.fasta  Epeg.indvY.repl3.fasta\n",
      "Bvul.indvZ.repl1.fasta  Dori.indvZ.repl1.fasta  Epeg.indvZ.repl1.fasta\n",
      "Bvul.indvZ.repl2.fasta  Dori.indvZ.repl2.fasta  Epeg.indvZ.repl2.fasta\n",
      "Bvul.indvZ.repl3.fasta  Dori.indvZ.repl3.fasta  Epeg.indvZ.repl3.fasta\n",
      "Docc.indvX.repl1.fasta  Emon.indvX.repl1.fasta  Hdiu.indvX.repl1.fasta\n",
      "Docc.indvX.repl2.fasta  Emon.indvX.repl2.fasta  Hdiu.indvX.repl2.fasta\n",
      "Docc.indvX.repl3.fasta  Emon.indvX.repl3.fasta  Hdiu.indvX.repl3.fasta\n",
      "Docc.indvY.repl1.fasta  Emon.indvY.repl1.fasta  Hdiu.indvY.repl1.fasta\n",
      "Docc.indvY.repl2.fasta  Emon.indvY.repl2.fasta  Hdiu.indvY.repl2.fasta\n",
      "Docc.indvY.repl3.fasta  Emon.indvY.repl3.fasta  Hdiu.indvY.repl3.fasta\n",
      "Docc.indvZ.repl1.fasta  Emon.indvZ.repl1.fasta  Hdiu.indvZ.repl1.fasta\n",
      "Docc.indvZ.repl2.fasta  Emon.indvZ.repl2.fasta  Hdiu.indvZ.repl2.fasta\n",
      "Docc.indvZ.repl3.fasta  Emon.indvZ.repl3.fasta  Hdiu.indvZ.repl3.fasta\n"
     ]
    }
   ],
   "source": [
    "ls data/creatures/"
   ]
  },
  {
   "cell_type": "markdown",
   "metadata": {},
   "source": [
    "And also a `summarize.sh` script, invoked like so."
   ]
  },
  {
   "cell_type": "code",
   "execution_count": 2,
   "metadata": {},
   "outputs": [
    {
     "name": "stdout",
     "output_type": "stream",
     "text": [
      "Fasta file 'data/creatures/Bvul.indvX.repl1.fasta' contains 1 record(s) across 473 lines\n"
     ]
    }
   ],
   "source": [
    "./summarize.sh data/creatures/Bvul.indvX.repl1.fasta"
   ]
  },
  {
   "cell_type": "markdown",
   "metadata": {},
   "source": [
    "Now imagine we want to run this script on all these Fasta files.\n",
    "\n",
    "- We use `-j 4` to indicate that we want to run 4 tasks at a time\n",
    "- The `{}` symbol is a placeholder for one of the inputs\n",
    "- The `:::` symbol separates the command to be executed from the input declaration\n",
    "- We use globbing to specify all `.fasta` files in `data/creatures/` as input"
   ]
  },
  {
   "cell_type": "code",
   "execution_count": 3,
   "metadata": {},
   "outputs": [
    {
     "name": "stdout",
     "output_type": "stream",
     "text": [
      "Fasta file 'data/creatures/Bvul.indvX.repl1.fasta' contains 1 record(s) across 473 lines\n",
      "Fasta file 'data/creatures/Bvul.indvX.repl2.fasta' contains 1 record(s) across 121 lines\n",
      "Fasta file 'data/creatures/Bvul.indvX.repl3.fasta' contains 1 record(s) across 500 lines\n",
      "Fasta file 'data/creatures/Bvul.indvY.repl1.fasta' contains 1 record(s) across 428 lines\n",
      "Fasta file 'data/creatures/Bvul.indvY.repl3.fasta' contains 1 record(s) across 63 lines\n",
      "Fasta file 'data/creatures/Bvul.indvY.repl2.fasta' contains 1 record(s) across 775 lines\n",
      "Fasta file 'data/creatures/Bvul.indvZ.repl1.fasta' contains 1 record(s) across 833 lines\n",
      "Fasta file 'data/creatures/Bvul.indvZ.repl2.fasta' contains 1 record(s) across 203 lines\n",
      "Fasta file 'data/creatures/Bvul.indvZ.repl3.fasta' contains 1 record(s) across 311 lines\n",
      "Fasta file 'data/creatures/Docc.indvX.repl1.fasta' contains 1 record(s) across 31 lines\n",
      "Fasta file 'data/creatures/Docc.indvY.repl1.fasta' contains 1 record(s) across 806 lines\n",
      "Fasta file 'data/creatures/Docc.indvX.repl3.fasta' contains 1 record(s) across 591 lines\n",
      "Fasta file 'data/creatures/Docc.indvX.repl2.fasta' contains 1 record(s) across 238 lines\n",
      "Fasta file 'data/creatures/Docc.indvY.repl2.fasta' contains 1 record(s) across 780 lines\n",
      "Fasta file 'data/creatures/Docc.indvZ.repl2.fasta' contains 1 record(s) across 16 lines\n",
      "Fasta file 'data/creatures/Docc.indvY.repl3.fasta' contains 1 record(s) across 118 lines\n",
      "Fasta file 'data/creatures/Docc.indvZ.repl1.fasta' contains 1 record(s) across 416 lines\n",
      "Fasta file 'data/creatures/Docc.indvZ.repl3.fasta' contains 1 record(s) across 748 lines\n",
      "Fasta file 'data/creatures/Dori.indvX.repl1.fasta' contains 1 record(s) across 828 lines\n",
      "Fasta file 'data/creatures/Dori.indvX.repl3.fasta' contains 1 record(s) across 15 lines\n",
      "Fasta file 'data/creatures/Dori.indvX.repl2.fasta' contains 1 record(s) across 185 lines\n",
      "Fasta file 'data/creatures/Dori.indvY.repl1.fasta' contains 1 record(s) across 536 lines\n",
      "Fasta file 'data/creatures/Dori.indvY.repl2.fasta' contains 1 record(s) across 11 lines\n",
      "Fasta file 'data/creatures/Dori.indvY.repl3.fasta' contains 1 record(s) across 70 lines\n",
      "Fasta file 'data/creatures/Dori.indvZ.repl1.fasta' contains 1 record(s) across 756 lines\n",
      "Fasta file 'data/creatures/Dori.indvZ.repl2.fasta' contains 1 record(s) across 301 lines\n",
      "Fasta file 'data/creatures/Dori.indvZ.repl3.fasta' contains 1 record(s) across 180 lines\n",
      "Fasta file 'data/creatures/Emon.indvX.repl1.fasta' contains 1 record(s) across 591 lines\n",
      "Fasta file 'data/creatures/Emon.indvX.repl2.fasta' contains 1 record(s) across 373 lines\n",
      "Fasta file 'data/creatures/Emon.indvX.repl3.fasta' contains 1 record(s) across 96 lines\n",
      "Fasta file 'data/creatures/Emon.indvY.repl1.fasta' contains 1 record(s) across 683 lines\n",
      "Fasta file 'data/creatures/Emon.indvY.repl2.fasta' contains 1 record(s) across 223 lines\n",
      "Fasta file 'data/creatures/Emon.indvZ.repl2.fasta' contains 1 record(s) across 23 lines\n",
      "Fasta file 'data/creatures/Emon.indvY.repl3.fasta' contains 1 record(s) across 780 lines\n",
      "Fasta file 'data/creatures/Emon.indvZ.repl1.fasta' contains 1 record(s) across 803 lines\n",
      "Fasta file 'data/creatures/Epeg.indvX.repl1.fasta' contains 1 record(s) across 13 lines\n",
      "Fasta file 'data/creatures/Emon.indvZ.repl3.fasta' contains 1 record(s) across 233 lines\n",
      "Fasta file 'data/creatures/Epeg.indvX.repl2.fasta' contains 1 record(s) across 203 lines\n",
      "Fasta file 'data/creatures/Epeg.indvY.repl2.fasta' contains 1 record(s) across 320 lines\n",
      "Fasta file 'data/creatures/Epeg.indvY.repl3.fasta' contains 1 record(s) across 421 lines\n",
      "Fasta file 'data/creatures/Epeg.indvX.repl3.fasta' contains 1 record(s) across 721 lines\n",
      "Fasta file 'data/creatures/Epeg.indvY.repl1.fasta' contains 1 record(s) across 806 lines\n",
      "Fasta file 'data/creatures/Hdiu.indvX.repl1.fasta' contains 1 record(s) across 150 lines\n",
      "Fasta file 'data/creatures/Epeg.indvZ.repl1.fasta' contains 1 record(s) across 213 lines\n",
      "Fasta file 'data/creatures/Epeg.indvZ.repl3.fasta' contains 1 record(s) across 118 lines\n",
      "Fasta file 'data/creatures/Epeg.indvZ.repl2.fasta' contains 1 record(s) across 823 lines\n",
      "Fasta file 'data/creatures/Hdiu.indvX.repl3.fasta' contains 1 record(s) across 523 lines\n",
      "Fasta file 'data/creatures/Hdiu.indvY.repl1.fasta' contains 1 record(s) across 688 lines\n",
      "Fasta file 'data/creatures/Hdiu.indvX.repl2.fasta' contains 1 record(s) across 825 lines\n",
      "Fasta file 'data/creatures/Hdiu.indvY.repl3.fasta' contains 1 record(s) across 558 lines\n",
      "Fasta file 'data/creatures/Hdiu.indvY.repl2.fasta' contains 1 record(s) across 733 lines\n",
      "Fasta file 'data/creatures/Hdiu.indvZ.repl1.fasta' contains 1 record(s) across 676 lines\n",
      "Fasta file 'data/creatures/Hdiu.indvZ.repl2.fasta' contains 1 record(s) across 318 lines\n",
      "Fasta file 'data/creatures/Hdiu.indvZ.repl3.fasta' contains 1 record(s) across 195 lines\n"
     ]
    }
   ],
   "source": [
    "parallel -j 4 ./summarize.sh {} ::: data/creatures/*.fasta"
   ]
  },
  {
   "cell_type": "markdown",
   "metadata": {},
   "source": [
    "The parallel command also supports `{.}` as a placeholder, which (if the input is a filename) removes the final file extension.\n",
    "This is very convenient for keeping a consistent prefix for all output files and avoiding the all-too-common accumulation of more and more extensions: `prefix.fasta` --> `prefix.fasta.cleaned.fasta` --> `prefix.fasta.cleaned.fasta.filtered` --> `prefix.fasta.cleaned.fasta.filtered.mash` --> `prefix.fasta.cleaned.fasta.filtered.mash.besthits.txt`"
   ]
  },
  {
   "cell_type": "code",
   "execution_count": 4,
   "metadata": {},
   "outputs": [
    {
     "name": "stdout",
     "output_type": "stream",
     "text": [
      "data/creatures/Docc.indvX.repl1.summary.txt\n",
      "data/creatures/Docc.indvX.repl2.summary.txt\n",
      "data/creatures/Docc.indvX.repl3.summary.txt\n",
      "data/creatures/Docc.indvY.repl1.summary.txt\n",
      "data/creatures/Docc.indvY.repl2.summary.txt\n",
      "data/creatures/Docc.indvY.repl3.summary.txt\n",
      "data/creatures/Docc.indvZ.repl1.summary.txt\n",
      "data/creatures/Docc.indvZ.repl2.summary.txt\n",
      "data/creatures/Docc.indvZ.repl3.summary.txt\n",
      "data/creatures/Dori.indvX.repl1.summary.txt\n",
      "data/creatures/Dori.indvX.repl2.summary.txt\n",
      "data/creatures/Dori.indvX.repl3.summary.txt\n",
      "data/creatures/Dori.indvY.repl1.summary.txt\n",
      "data/creatures/Dori.indvY.repl2.summary.txt\n",
      "data/creatures/Dori.indvY.repl3.summary.txt\n",
      "data/creatures/Dori.indvZ.repl1.summary.txt\n",
      "data/creatures/Dori.indvZ.repl2.summary.txt\n",
      "data/creatures/Dori.indvZ.repl3.summary.txt\n"
     ]
    }
   ],
   "source": [
    "parallel -j 4 ./summarize.sh {} '>' {.}.summary.txt ::: data/creatures/D*.fasta\n",
    "ls data/creatures/*.summary.txt"
   ]
  },
  {
   "cell_type": "markdown",
   "metadata": {},
   "source": [
    "If we want to specify our inputs using a file (one input per line), we use `::::` instead of `:::`."
   ]
  },
  {
   "cell_type": "code",
   "execution_count": 5,
   "metadata": {},
   "outputs": [
    {
     "name": "stdout",
     "output_type": "stream",
     "text": [
      "Fasta file 'data/creatures/Bvul.indvY.repl1.fasta' contains 1 record(s) across 428 lines\n",
      "Fasta file 'data/creatures/Bvul.indvX.repl1.fasta' contains 1 record(s) across 473 lines\n",
      "Fasta file 'data/creatures/Bvul.indvX.repl2.fasta' contains 1 record(s) across 121 lines\n",
      "Fasta file 'data/creatures/Bvul.indvX.repl3.fasta' contains 1 record(s) across 500 lines\n",
      "Fasta file 'data/creatures/Bvul.indvZ.repl1.fasta' contains 1 record(s) across 833 lines\n",
      "Fasta file 'data/creatures/Bvul.indvY.repl2.fasta' contains 1 record(s) across 775 lines\n",
      "Fasta file 'data/creatures/Bvul.indvY.repl3.fasta' contains 1 record(s) across 63 lines\n",
      "Fasta file 'data/creatures/Docc.indvX.repl1.fasta' contains 1 record(s) across 31 lines\n",
      "Fasta file 'data/creatures/Bvul.indvZ.repl2.fasta' contains 1 record(s) across 203 lines\n",
      "Fasta file 'data/creatures/Docc.indvX.repl2.fasta' contains 1 record(s) across 238 lines\n",
      "Fasta file 'data/creatures/Bvul.indvZ.repl3.fasta' contains 1 record(s) across 311 lines\n",
      "Fasta file 'data/creatures/Docc.indvX.repl3.fasta' contains 1 record(s) across 591 lines\n"
     ]
    }
   ],
   "source": [
    "parallel -j 4 ./summarize.sh {} :::: creatures.txt"
   ]
  },
  {
   "cell_type": "markdown",
   "metadata": {},
   "source": [
    "We can use the `:::` multiple times to specify multiple input sources.\n",
    "Every combination of inputs (one from each source) will be executed.\n",
    "For example, if we wanted to print out every tri-nucleotide we could do the following."
   ]
  },
  {
   "cell_type": "code",
   "execution_count": 6,
   "metadata": {},
   "outputs": [
    {
     "name": "stdout",
     "output_type": "stream",
     "text": [
      "AAA\n",
      "AAC\n",
      "AAG\n",
      "AAT\n",
      "ACA\n",
      "ACC\n",
      "ACG\n",
      "ACT\n",
      "AGA\n",
      "AGC\n",
      "AGG\n",
      "AGT\n",
      "ATA\n",
      "ATC\n",
      "ATG\n",
      "ATT\n",
      "CAA\n",
      "CAC\n",
      "CAG\n",
      "CAT\n",
      "CCA\n",
      "CCC\n",
      "CCG\n",
      "CCT\n",
      "CGA\n",
      "CGC\n",
      "CGG\n",
      "CGT\n",
      "CTA\n",
      "CTC\n",
      "CTG\n",
      "CTT\n",
      "GAA\n",
      "GAC\n",
      "GAG\n",
      "GAT\n",
      "GCA\n",
      "GCC\n",
      "GCG\n",
      "GCT\n",
      "GGA\n",
      "GGC\n",
      "GGG\n",
      "GGT\n",
      "GTA\n",
      "GTC\n",
      "GTG\n",
      "GTT\n",
      "TAA\n",
      "TAC\n",
      "TAG\n",
      "TAT\n",
      "TCA\n",
      "TCC\n",
      "TCG\n",
      "TCT\n",
      "TGA\n",
      "TGC\n",
      "TGG\n",
      "TGT\n",
      "TTA\n",
      "TTC\n",
      "TTG\n",
      "TTT\n"
     ]
    }
   ],
   "source": [
    "parallel echo {1}{2}{3} ::: A C G T ::: A C G T ::: A C G T"
   ]
  },
  {
   "cell_type": "markdown",
   "metadata": {},
   "source": [
    "This can give us finer control over matching when needed.\n",
    "Back to our sample data files, we can process a subset of the `.fasta` files using the following command."
   ]
  },
  {
   "cell_type": "code",
   "execution_count": 7,
   "metadata": {},
   "outputs": [
    {
     "name": "stdout",
     "output_type": "stream",
     "text": [
      "Fasta file 'data/creatures/Bvul.indvX.repl1.fasta' contains 1 record(s) across 473 lines\n",
      "Fasta file 'data/creatures/Bvul.indvX.repl2.fasta' contains 1 record(s) across 121 lines\n",
      "Fasta file 'data/creatures/Bvul.indvY.repl1.fasta' contains 1 record(s) across 428 lines\n",
      "Fasta file 'data/creatures/Bvul.indvX.repl3.fasta' contains 1 record(s) across 500 lines\n",
      "Fasta file 'data/creatures/Bvul.indvY.repl2.fasta' contains 1 record(s) across 775 lines\n",
      "Fasta file 'data/creatures/Dori.indvX.repl1.fasta' contains 1 record(s) across 828 lines\n",
      "Fasta file 'data/creatures/Bvul.indvY.repl3.fasta' contains 1 record(s) across 63 lines\n",
      "Fasta file 'data/creatures/Dori.indvX.repl2.fasta' contains 1 record(s) across 185 lines\n",
      "Fasta file 'data/creatures/Dori.indvX.repl3.fasta' contains 1 record(s) across 15 lines\n",
      "Fasta file 'data/creatures/Dori.indvY.repl2.fasta' contains 1 record(s) across 11 lines\n",
      "Fasta file 'data/creatures/Dori.indvY.repl1.fasta' contains 1 record(s) across 536 lines\n",
      "Fasta file 'data/creatures/Dori.indvY.repl3.fasta' contains 1 record(s) across 70 lines\n",
      "Fasta file 'data/creatures/Hdiu.indvX.repl1.fasta' contains 1 record(s) across 150 lines\n",
      "Fasta file 'data/creatures/Hdiu.indvX.repl2.fasta' contains 1 record(s) across 825 lines\n",
      "Fasta file 'data/creatures/Hdiu.indvX.repl3.fasta' contains 1 record(s) across 523 lines\n",
      "Fasta file 'data/creatures/Hdiu.indvY.repl1.fasta' contains 1 record(s) across 688 lines\n",
      "Fasta file 'data/creatures/Hdiu.indvY.repl2.fasta' contains 1 record(s) across 733 lines\n",
      "Fasta file 'data/creatures/Hdiu.indvY.repl3.fasta' contains 1 record(s) across 558 lines\n"
     ]
    }
   ],
   "source": [
    "parallel -j 4 ./summarize.sh data/creatures/{1}.indv{2}.repl{3}.fasta ::: Bvul Dori Hdiu ::: X Y ::: 1 2 3"
   ]
  }
 ],
 "metadata": {
  "kernelspec": {
   "display_name": "Bash",
   "language": "bash",
   "name": "bash"
  },
  "language_info": {
   "codemirror_mode": "shell",
   "file_extension": ".sh",
   "mimetype": "text/x-sh",
   "name": "bash"
  }
 },
 "nbformat": 4,
 "nbformat_minor": 2
}
