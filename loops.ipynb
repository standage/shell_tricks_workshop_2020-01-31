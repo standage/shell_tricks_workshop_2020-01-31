{
 "cells": [
  {
   "cell_type": "markdown",
   "metadata": {},
   "source": [
    "# Bash for loops"
   ]
  },
  {
   "cell_type": "markdown",
   "metadata": {},
   "source": [
    "## Intro\n",
    "\n",
    "Like most programming languages, Bash has a flow control mechanism called a `for` loop for repeating a command or set of commands on multiple values or files.\n",
    "Instead of executing the same statement over and over again..."
   ]
  },
  {
   "cell_type": "code",
   "execution_count": 1,
   "metadata": {},
   "outputs": [
    {
     "name": "stdout",
     "output_type": "stream",
     "text": [
      "1\n",
      "2\n",
      "3\n",
      "4\n",
      "5\n"
     ]
    }
   ],
   "source": [
    "echo 1\n",
    "echo 2\n",
    "echo 3\n",
    "echo 4\n",
    "echo 5"
   ]
  },
  {
   "cell_type": "markdown",
   "metadata": {},
   "source": [
    "...you can write a `for` loop so that you only have to invoke the statement once."
   ]
  },
  {
   "cell_type": "code",
   "execution_count": 2,
   "metadata": {},
   "outputs": [
    {
     "name": "stdout",
     "output_type": "stream",
     "text": [
      "1\n",
      "2\n",
      "3\n",
      "4\n",
      "5\n"
     ]
    }
   ],
   "source": [
    "for i in 1 2 3 4 5; do echo $i; done"
   ]
  },
  {
   "cell_type": "markdown",
   "metadata": {},
   "source": [
    "The cell above shows how I typically write for loops on the command line—compressed on a single line.\n",
    "But if you're writing the loop in a script, you can improve readability by speading the loop across multiple lines, as shown here."
   ]
  },
  {
   "cell_type": "code",
   "execution_count": 3,
   "metadata": {},
   "outputs": [
    {
     "name": "stdout",
     "output_type": "stream",
     "text": [
      "1\n",
      "2\n",
      "3\n",
      "4\n",
      "5\n"
     ]
    }
   ],
   "source": [
    "for i in 1 2 3 4 5; do\n",
    "    echo $i\n",
    "done"
   ]
  },
  {
   "cell_type": "markdown",
   "metadata": {},
   "source": [
    "The first line of the loop specifies the inputs.\n",
    "The indented body of the loop declares the operation(s) to be performed on the inputs.\n",
    "The final line `done` indicates the end of the loop.\n",
    "\n",
    "> *Note 1: the indentation of the loop body is optional, but improves readability*\n",
    "\n",
    "> *Note 2: it's common for the body of the loop to include multiple lines/operations on the input*\n",
    "\n",
    "The for loop above is a trivial example in a couple of ways.\n",
    "First, using a for loop for 5 inputs doesn't save you *that* much time or typing.\n",
    "Second, the \"operation\" we're performing on this input (printing the value to the terminal) is about as trivial as it gets.\n",
    "However, the for loop is a huge time saver when you need to operate on dozens, hundreds, or even thousands of inputs, or when the operation you're performing takes minutes or hours instead of milliseconds."
   ]
  },
  {
   "cell_type": "markdown",
   "metadata": {},
   "source": [
    "## Nested for loops\n",
    "\n",
    "Description to go here."
   ]
  },
  {
   "cell_type": "code",
   "execution_count": 4,
   "metadata": {},
   "outputs": [
    {
     "name": "stdout",
     "output_type": "stream",
     "text": [
      "1a\n",
      "1b\n",
      "1c\n",
      "2a\n",
      "2b\n",
      "2c\n",
      "3a\n",
      "3b\n",
      "3c\n",
      "4a\n",
      "4b\n",
      "4c\n",
      "5a\n",
      "5b\n",
      "5c\n"
     ]
    }
   ],
   "source": [
    "for i in 1 2 3 4 5; do for j in a b c; do echo ${i}${j}; done; done"
   ]
  },
  {
   "cell_type": "code",
   "execution_count": 5,
   "metadata": {},
   "outputs": [
    {
     "name": "stdout",
     "output_type": "stream",
     "text": [
      "1a\n",
      "1b\n",
      "1c\n",
      "2a\n",
      "2b\n",
      "2c\n",
      "3a\n",
      "3b\n",
      "3c\n",
      "4a\n",
      "4b\n",
      "4c\n",
      "5a\n",
      "5b\n",
      "5c\n"
     ]
    }
   ],
   "source": [
    "for i in 1 2 3 4 5; do\n",
    "    for j in a b c; do\n",
    "        echo ${i}${j}\n",
    "    done\n",
    "done"
   ]
  },
  {
   "cell_type": "markdown",
   "metadata": {},
   "source": [
    "## Exercise\n",
    "\n",
    "To go here!"
   ]
  },
  {
   "cell_type": "markdown",
   "metadata": {},
   "source": [
    "## Parallel execution with the for loop\n",
    "\n",
    "Normally, a for loop performs operations on the input *sequentially*.\n",
    "That is, it executes operation(s) in the body of the loop on the first input, then it moves to the second input, and so on until all inputs have been processed.\n",
    "It is possible to have a for loop execute operations on all inputs simultaneously.\n",
    "\n",
    "The example above is too trivial to make an effective demonstration, so we'll define a new operation here, which I have affectionately called `pipeline`.\n",
    "It simply rests for 4 seconds, and then prints `Pipeline $1 complete`, where `$1` is a placeholder for the input.\n",
    "\n",
    "> Note: this example doesn't work well in the Jupyter notebook.\n",
    "> I recommend running it in the Jupyter terminal."
   ]
  },
  {
   "cell_type": "code",
   "execution_count": 6,
   "metadata": {},
   "outputs": [],
   "source": [
    "pipeline() {\n",
    "    sleep 4\n",
    "    echo Pipline $1 complete\n",
    "}"
   ]
  },
  {
   "cell_type": "markdown",
   "metadata": {},
   "source": [
    "If we execute the for loop as we did before, it should take exactly 20 seconds to process 5 inputs."
   ]
  },
  {
   "cell_type": "code",
   "execution_count": 7,
   "metadata": {},
   "outputs": [
    {
     "name": "stdout",
     "output_type": "stream",
     "text": [
      "Pipline 1 complete\n",
      "Pipline 2 complete\n",
      "Pipline 3 complete\n",
      "Pipline 4 complete\n",
      "Pipline 5 complete\n"
     ]
    }
   ],
   "source": [
    "for i in 1 2 3 4 5; do pipeline $i; done"
   ]
  },
  {
   "cell_type": "markdown",
   "metadata": {},
   "source": [
    "But we can replace the second `;` symbol with a `&` symbol, indicating that the command should be run in the background.\n",
    "This allows the for loop to move on to the second input before the first input is done being processed, and so on until processing of all inputs has been initiated.\n",
    "Since all inputs are being processed simultaneously, it should only take 4 seconds to process the 5 inputs."
   ]
  },
  {
   "cell_type": "code",
   "execution_count": 8,
   "metadata": {},
   "outputs": [],
   "source": [
    "# for i in 1 2 3 4 5; do pipeline $i & done"
   ]
  },
  {
   "cell_type": "markdown",
   "metadata": {},
   "source": [
    "> **IMPORTANT NOTE**: This approach should **NEVER** be used when the number of inputs exceeds the number of processors on your computer.\n",
    "> If you have 100 inputs and 8 processors, executing a for loop in parallel will cause Bad Things™ to happen.\n",
    "> In cases where the number of inputs exceeds the number of available processors, the GNU `parallel` is the recommended solution.\n",
    "> See `parallel.ipynb` for more details."
   ]
  }
 ],
 "metadata": {
  "kernelspec": {
   "display_name": "Bash",
   "language": "bash",
   "name": "bash"
  },
  "language_info": {
   "codemirror_mode": "shell",
   "file_extension": ".sh",
   "mimetype": "text/x-sh",
   "name": "bash"
  }
 },
 "nbformat": 4,
 "nbformat_minor": 2
}
