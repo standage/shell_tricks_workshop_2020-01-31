{
 "cells": [
  {
   "cell_type": "markdown",
   "metadata": {},
   "source": [
    "# Bash for loops"
   ]
  },
  {
   "cell_type": "markdown",
   "metadata": {},
   "source": [
    "## Intro\n",
    "\n",
    "Like most programming languages, Bash has a flow control mechanism called a `for` loop for repeating a command or set of commands on multiple values or files.\n",
    "Instead of executing the same statement over and over again..."
   ]
  },
  {
   "cell_type": "code",
   "execution_count": 1,
   "metadata": {},
   "outputs": [
    {
     "name": "stdout",
     "output_type": "stream",
     "text": [
      "1\n",
      "2\n",
      "3\n",
      "4\n",
      "5\n"
     ]
    }
   ],
   "source": [
    "echo 1\n",
    "echo 2\n",
    "echo 3\n",
    "echo 4\n",
    "echo 5"
   ]
  },
  {
   "cell_type": "markdown",
   "metadata": {},
   "source": [
    "...you can write a `for` loop so that you only have to invoke the statement once."
   ]
  },
  {
   "cell_type": "code",
   "execution_count": 2,
   "metadata": {},
   "outputs": [
    {
     "name": "stdout",
     "output_type": "stream",
     "text": [
      "1\n",
      "2\n",
      "3\n",
      "4\n",
      "5\n"
     ]
    }
   ],
   "source": [
    "for i in 1 2 3 4 5; do echo $i; done"
   ]
  },
  {
   "cell_type": "markdown",
   "metadata": {},
   "source": [
    "The cell above shows how I typically write for loops on the command line—compressed on a single line.\n",
    "But if you're writing the loop in a script, you can improve readability by speading the loop across multiple lines, as shown here."
   ]
  },
  {
   "cell_type": "code",
   "execution_count": 3,
   "metadata": {},
   "outputs": [
    {
     "name": "stdout",
     "output_type": "stream",
     "text": [
      "1\n",
      "2\n",
      "3\n",
      "4\n",
      "5\n"
     ]
    }
   ],
   "source": [
    "for i in 1 2 3 4 5; do\n",
    "    echo $i\n",
    "done"
   ]
  },
  {
   "cell_type": "markdown",
   "metadata": {},
   "source": [
    "The first line of the loop specifies the inputs.\n",
    "The indented body of the loop declares the operation(s) to be performed on the inputs.\n",
    "The final line `done` indicates the end of the loop.\n",
    "\n",
    "> *Note 1: the indentation of the loop body is optional, but improves readability*\n",
    "\n",
    "> *Note 2: it's common for the body of the loop to include multiple lines/operations on the input*\n",
    "\n",
    "The for loop above is a trivial example in a couple of ways.\n",
    "First, using a for loop for 5 inputs doesn't save you *that* much time or typing.\n",
    "Second, the \"operation\" we're performing on this input (printing the value to the terminal) is about as trivial as it gets.\n",
    "However, the for loop is a huge time saver when you need to operate on dozens, hundreds, or even thousands of inputs, or when the operation you're performing takes minutes or hours instead of milliseconds."
   ]
  },
  {
   "cell_type": "markdown",
   "metadata": {},
   "source": [
    "## Nested for loops\n",
    "\n",
    "Sometimes you need to loop over two variables.\n",
    "For example, you have have reads for 5 species and 3 samples per species.\n",
    "So if you want to loop over each read set, you can either type out each of the 15 species/sample combinations (yuck!) or you can use a nested loop."
   ]
  },
  {
   "cell_type": "code",
   "execution_count": 4,
   "metadata": {},
   "outputs": [
    {
     "name": "stdout",
     "output_type": "stream",
     "text": [
      "sample1a.fastq\n",
      "sample1b.fastq\n",
      "sample1c.fastq\n",
      "sample2a.fastq\n",
      "sample2b.fastq\n",
      "sample2c.fastq\n",
      "sample3a.fastq\n",
      "sample3b.fastq\n",
      "sample3c.fastq\n",
      "sample4a.fastq\n",
      "sample4b.fastq\n",
      "sample4c.fastq\n",
      "sample5a.fastq\n",
      "sample5b.fastq\n",
      "sample5c.fastq\n"
     ]
    }
   ],
   "source": [
    "for i in 1 2 3 4 5; do for j in a b c; do echo sample${i}${j}.fastq; done; done"
   ]
  },
  {
   "cell_type": "markdown",
   "metadata": {},
   "source": [
    "Here's the same nested loop expanded for readability."
   ]
  },
  {
   "cell_type": "code",
   "execution_count": 5,
   "metadata": {},
   "outputs": [
    {
     "name": "stdout",
     "output_type": "stream",
     "text": [
      "sample1a.fastq\n",
      "sample1b.fastq\n",
      "sample1c.fastq\n",
      "sample2a.fastq\n",
      "sample2b.fastq\n",
      "sample2c.fastq\n",
      "sample3a.fastq\n",
      "sample3b.fastq\n",
      "sample3c.fastq\n",
      "sample4a.fastq\n",
      "sample4b.fastq\n",
      "sample4c.fastq\n",
      "sample5a.fastq\n",
      "sample5b.fastq\n",
      "sample5c.fastq\n"
     ]
    }
   ],
   "source": [
    "for i in 1 2 3 4 5; do\n",
    "    for j in a b c; do\n",
    "        echo sample${i}${j}.fastq\n",
    "    done\n",
    "done"
   ]
  },
  {
   "cell_type": "markdown",
   "metadata": {},
   "source": [
    "## Exercise\n",
    "\n",
    "Imagine we have reads for 5 species (Bant, Bcer, Ftul, Yent, Ypes), and 3 samples from each species."
   ]
  },
  {
   "cell_type": "code",
   "execution_count": 6,
   "metadata": {},
   "outputs": [
    {
     "name": "stdout",
     "output_type": "stream",
     "text": [
      "Bant-samp1.fastq  Bcer-samp2.fastq  Ftul-samp3.fastq  Ypes-samp1.fastq\n",
      "Bant-samp2.fastq  Bcer-samp3.fastq  Yent-samp1.fastq  Ypes-samp2.fastq\n",
      "Bant-samp3.fastq  Ftul-samp1.fastq  Yent-samp2.fastq  Ypes-samp3.fastq\n",
      "Bcer-samp1.fastq  Ftul-samp2.fastq  Yent-samp3.fastq\n"
     ]
    }
   ],
   "source": [
    "ls data/loopy/"
   ]
  },
  {
   "cell_type": "markdown",
   "metadata": {},
   "source": [
    "Write a nested for loop that will count the number of lines in each file."
   ]
  },
  {
   "cell_type": "code",
   "execution_count": 7,
   "metadata": {},
   "outputs": [],
   "source": [
    "# your code goes here"
   ]
  },
  {
   "cell_type": "markdown",
   "metadata": {},
   "source": [
    "## Parallel execution with the for loop\n",
    "\n",
    "Normally, a for loop performs operations on the input *sequentially*.\n",
    "That is, it executes operation(s) in the body of the loop on the first input, then it moves to the second input, and so on until all inputs have been processed.\n",
    "It is possible to have a for loop execute operations on all inputs simultaneously.\n",
    "\n",
    "The examples above are too trivial to make an effective demonstration, so here we'll use something that requires a bit more runtime—our trusty dusty `analyze.sh` script!\n",
    "\n",
    "Let's process 5 of our Fastq files.\n",
    "If we use a sequential loop here, it will take 30-60 seconds to process 5 inputs."
   ]
  },
  {
   "cell_type": "code",
   "execution_count": 8,
   "metadata": {},
   "outputs": [
    {
     "name": "stdout",
     "output_type": "stream",
     "text": [
      "Analysis of 'data/loopy/Bant-sample1.fastq'...done! (completed in 7 seconds)\n",
      "Analysis of 'data/loopy/Bcer-sample1.fastq'...done! (completed in 7 seconds)\n",
      "Analysis of 'data/loopy/Ftul-sample1.fastq'...done! (completed in 9 seconds)\n",
      "Analysis of 'data/loopy/Yent-sample1.fastq'...done! (completed in 11 seconds)\n",
      "Analysis of 'data/loopy/Ypes-sample1.fastq'...done! (completed in 10 seconds)\n"
     ]
    }
   ],
   "source": [
    "for species in Bant Bcer Ftul Yent Ypes; do ./analyze.sh data/loopy/${species}-sample1.fastq; done"
   ]
  },
  {
   "cell_type": "markdown",
   "metadata": {},
   "source": [
    "We can run all 5 jobs in parallel by replacing the second `;` symbol with a `&` symbol, indicating that the command should be run in the background.\n",
    "This allows the for loop to move on to the second input before the first input is done being processed, and so on until processing of all inputs has been initiated.\n",
    "Since all inputs are being processed simultaneously, the run time required is closer to 5-10 seconds."
   ]
  },
  {
   "cell_type": "code",
   "execution_count": 9,
   "metadata": {},
   "outputs": [
    {
     "name": "stdout",
     "output_type": "stream",
     "text": [
      "[1] 11088\n",
      "[2] 11089\n",
      "[3] 11090\n",
      "[4] 11091\n",
      "[5] 11092\n",
      "Analysis of 'data/loopy/Ftul-sample1.fastq'...done! (completed in 7 seconds)\n",
      "Analysis of 'data/loopy/Yent-sample1.fastq'...done! (completed in 8 seconds)\n",
      "Analysis of 'data/loopy/Bant-sample1.fastq'...done! (completed in 10 seconds)\n",
      "Analysis of 'data/loopy/Bcer-sample1.fastq'...done! (completed in 10 seconds)\n",
      "[1]   Done                    ./analyze.sh data/loopy/${species}-sample1.fastq\n",
      "[3]   Done                    ./analyze.sh data/loopy/${species}-sample1.fastq\n",
      "[4]-  Done                    ./analyze.sh data/loopy/${species}-sample1.fastq\n",
      "Analysis of 'data/loopy/Ypes-sample1.fastq'...done! (completed in 11 seconds)\n",
      "[2]-  Done                    ./analyze.sh data/loopy/${species}-sample1.fastq\n",
      "[5]+  Done                    ./analyze.sh data/loopy/${species}-sample1.fastq\n"
     ]
    }
   ],
   "source": [
    "for species in Bant Bcer Ftul Yent Ypes; do ./analyze.sh data/loopy/${species}-sample1.fastq & done && wait"
   ]
  },
  {
   "cell_type": "markdown",
   "metadata": {},
   "source": [
    "> **IMPORTANT NOTE**: This approach should **NEVER** be used when the number of inputs exceeds the number of processors on your computer.\n",
    "> If you have 100 inputs and 8 processors, executing a for loop in parallel will cause Bad Things™ to happen.\n",
    "> In cases where the number of inputs exceeds the number of available processors, the GNU `parallel` is the recommended solution.\n",
    "> See `parallel.ipynb` for more details."
   ]
  }
 ],
 "metadata": {
  "kernelspec": {
   "display_name": "Bash",
   "language": "bash",
   "name": "bash"
  },
  "language_info": {
   "codemirror_mode": "shell",
   "file_extension": ".sh",
   "mimetype": "text/x-sh",
   "name": "bash"
  }
 },
 "nbformat": 4,
 "nbformat_minor": 2
}
